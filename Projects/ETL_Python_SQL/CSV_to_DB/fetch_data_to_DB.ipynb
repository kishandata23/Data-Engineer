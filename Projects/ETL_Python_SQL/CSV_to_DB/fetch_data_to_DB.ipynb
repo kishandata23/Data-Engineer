{
 "cells": [
  {
   "cell_type": "markdown",
   "metadata": {},
   "source": [
    "# Load CSV to Database"
   ]
  },
  {
   "cell_type": "code",
   "execution_count": 31,
   "metadata": {},
   "outputs": [
    {
     "data": {
      "text/html": [
       "<div>\n",
       "<style scoped>\n",
       "    .dataframe tbody tr th:only-of-type {\n",
       "        vertical-align: middle;\n",
       "    }\n",
       "\n",
       "    .dataframe tbody tr th {\n",
       "        vertical-align: top;\n",
       "    }\n",
       "\n",
       "    .dataframe thead th {\n",
       "        text-align: right;\n",
       "    }\n",
       "</style>\n",
       "<table border=\"1\" class=\"dataframe\">\n",
       "  <thead>\n",
       "    <tr style=\"text-align: right;\">\n",
       "      <th></th>\n",
       "      <th>Row ID</th>\n",
       "      <th>Order ID</th>\n",
       "      <th>Year</th>\n",
       "      <th>Order Date</th>\n",
       "      <th>Ship Date</th>\n",
       "      <th>Ship Mode</th>\n",
       "      <th>Customer ID</th>\n",
       "      <th>Customer Name</th>\n",
       "      <th>Segment</th>\n",
       "      <th>Country</th>\n",
       "      <th>...</th>\n",
       "      <th>Postal Code</th>\n",
       "      <th>Region</th>\n",
       "      <th>Product ID</th>\n",
       "      <th>Category</th>\n",
       "      <th>Sub-Category</th>\n",
       "      <th>Product Name</th>\n",
       "      <th>Sales</th>\n",
       "      <th>Quantity</th>\n",
       "      <th>Discount</th>\n",
       "      <th>Profit</th>\n",
       "    </tr>\n",
       "  </thead>\n",
       "  <tbody>\n",
       "    <tr>\n",
       "      <th>0</th>\n",
       "      <td>1</td>\n",
       "      <td>CA-2013-152156</td>\n",
       "      <td>2013</td>\n",
       "      <td>11/9/2013</td>\n",
       "      <td>11/12/2013</td>\n",
       "      <td>Second Class</td>\n",
       "      <td>CG-12520</td>\n",
       "      <td>Claire Gute</td>\n",
       "      <td>Consumer</td>\n",
       "      <td>United States</td>\n",
       "      <td>...</td>\n",
       "      <td>42420</td>\n",
       "      <td>South</td>\n",
       "      <td>FUR-BO-10001798</td>\n",
       "      <td>Furniture</td>\n",
       "      <td>Bookcases</td>\n",
       "      <td>Bush Somerset Collection Bookcase</td>\n",
       "      <td>261.96</td>\n",
       "      <td>2</td>\n",
       "      <td>0.0</td>\n",
       "      <td>41.9136</td>\n",
       "    </tr>\n",
       "    <tr>\n",
       "      <th>1</th>\n",
       "      <td>2</td>\n",
       "      <td>CA-2013-152156</td>\n",
       "      <td>2013</td>\n",
       "      <td>11/9/2013</td>\n",
       "      <td>11/12/2013</td>\n",
       "      <td>Second Class</td>\n",
       "      <td>CG-12520</td>\n",
       "      <td>Claire Gute</td>\n",
       "      <td>Consumer</td>\n",
       "      <td>United States</td>\n",
       "      <td>...</td>\n",
       "      <td>42420</td>\n",
       "      <td>South</td>\n",
       "      <td>FUR-CH-10000454</td>\n",
       "      <td>Furniture</td>\n",
       "      <td>Chairs</td>\n",
       "      <td>Hon Deluxe Fabric Upholstered Stacking Chairs,...</td>\n",
       "      <td>731.94</td>\n",
       "      <td>3</td>\n",
       "      <td>0.0</td>\n",
       "      <td>219.5820</td>\n",
       "    </tr>\n",
       "  </tbody>\n",
       "</table>\n",
       "<p>2 rows × 22 columns</p>\n",
       "</div>"
      ],
      "text/plain": [
       "   Row ID        Order ID  Year Order Date   Ship Date     Ship Mode  \\\n",
       "0       1  CA-2013-152156  2013  11/9/2013  11/12/2013  Second Class   \n",
       "1       2  CA-2013-152156  2013  11/9/2013  11/12/2013  Second Class   \n",
       "\n",
       "  Customer ID Customer Name   Segment        Country  ... Postal Code Region  \\\n",
       "0    CG-12520   Claire Gute  Consumer  United States  ...       42420  South   \n",
       "1    CG-12520   Claire Gute  Consumer  United States  ...       42420  South   \n",
       "\n",
       "        Product ID   Category Sub-Category  \\\n",
       "0  FUR-BO-10001798  Furniture    Bookcases   \n",
       "1  FUR-CH-10000454  Furniture       Chairs   \n",
       "\n",
       "                                        Product Name   Sales Quantity  \\\n",
       "0                  Bush Somerset Collection Bookcase  261.96        2   \n",
       "1  Hon Deluxe Fabric Upholstered Stacking Chairs,...  731.94        3   \n",
       "\n",
       "   Discount    Profit  \n",
       "0       0.0   41.9136  \n",
       "1       0.0  219.5820  \n",
       "\n",
       "[2 rows x 22 columns]"
      ]
     },
     "execution_count": 31,
     "metadata": {},
     "output_type": "execute_result"
    }
   ],
   "source": [
    "import pandas as pd\n",
    " \n",
    "df = pd.read_csv(\"Ecommerce_Sales_Analysis.csv\")\n",
    "\n",
    "df.head(2)\n",
    " "
   ]
  },
  {
   "cell_type": "code",
   "execution_count": 32,
   "metadata": {},
   "outputs": [
    {
     "data": {
      "text/plain": [
       "Index(['Row ID', 'Order ID', 'Year', 'Order Date', 'Ship Date', 'Ship Mode',\n",
       "       'Customer ID', 'Customer Name', 'Segment', 'Country', 'City', 'State',\n",
       "       'Postal Code', 'Region', 'Product ID', 'Category', 'Sub-Category',\n",
       "       'Product Name', 'Sales', 'Quantity', 'Discount', 'Profit'],\n",
       "      dtype='object')"
      ]
     },
     "execution_count": 32,
     "metadata": {},
     "output_type": "execute_result"
    }
   ],
   "source": [
    "df.columns"
   ]
  },
  {
   "cell_type": "code",
   "execution_count": 33,
   "metadata": {},
   "outputs": [
    {
     "data": {
      "text/plain": [
       "(9994, 22)"
      ]
     },
     "execution_count": 33,
     "metadata": {},
     "output_type": "execute_result"
    }
   ],
   "source": [
    "df.shape"
   ]
  },
  {
   "cell_type": "code",
   "execution_count": 34,
   "metadata": {},
   "outputs": [
    {
     "data": {
      "text/plain": [
       "Row ID             int64\n",
       "Order ID          object\n",
       "Year               int64\n",
       "Order Date        object\n",
       "Ship Date         object\n",
       "Ship Mode         object\n",
       "Customer ID       object\n",
       "Customer Name     object\n",
       "Segment           object\n",
       "Country           object\n",
       "City              object\n",
       "State             object\n",
       "Postal Code        int64\n",
       "Region            object\n",
       "Product ID        object\n",
       "Category          object\n",
       "Sub-Category      object\n",
       "Product Name      object\n",
       "Sales            float64\n",
       "Quantity           int64\n",
       "Discount         float64\n",
       "Profit           float64\n",
       "dtype: object"
      ]
     },
     "execution_count": 34,
     "metadata": {},
     "output_type": "execute_result"
    }
   ],
   "source": [
    "df.dtypes"
   ]
  },
  {
   "cell_type": "code",
   "execution_count": 35,
   "metadata": {},
   "outputs": [
    {
     "name": "stdout",
     "output_type": "stream",
     "text": [
      "Data loaded successfully!\n"
     ]
    }
   ],
   "source": [
    "\n",
    "from sqlalchemy import create_engine\n",
    "import psycopg2\n",
    "\n",
    "# Database connection parameters\n",
    "username = 'postgres'\n",
    "password = 'postgresql'\n",
    "host = 'localhost'\n",
    "port = '5432'\n",
    "database = 'postgres'\n",
    "\n",
    "# Connect to PostgreSQL\n",
    "# Create a connection string\n",
    "conn_s = f'postgresql+psycopg2://{username}:{password}@{host}:{port}/{database}'\n",
    "\n",
    "\n",
    "\n",
    "csv_file_path = \"Ecommerce_Sales_Analysis.csv\"\n",
    "# Create an SQLAlchemy engine\n",
    "\n",
    "\n",
    "\n",
    "engine = create_engine(conn_s)\n",
    "\n",
    " \n",
    "# Read the CSV file into a DataFrame\n",
    "df = pd.read_csv(csv_file_path)\n",
    "\n",
    "# Load the DataFrame into PostgreSQL\n",
    "df.to_sql('Ecommerce_Sales_Analysis', con=engine, if_exists='replace', index=False)\n",
    "\n",
    "print(\"Data loaded successfully!\")\n",
    " "
   ]
  },
  {
   "cell_type": "code",
   "execution_count": 36,
   "metadata": {},
   "outputs": [
    {
     "name": "stdout",
     "output_type": "stream",
     "text": [
      "   Row ID        Order ID  Year  Order Date   Ship Date       Ship Mode  \\\n",
      "0       1  CA-2013-152156  2013   11/9/2013  11/12/2013    Second Class   \n",
      "1       2  CA-2013-152156  2013   11/9/2013  11/12/2013    Second Class   \n",
      "2       3  CA-2013-138688  2013   6/13/2013   6/17/2013    Second Class   \n",
      "3       4  US-2012-108966  2012  10/11/2012  10/18/2012  Standard Class   \n",
      "4       5  US-2012-108966  2012  10/11/2012  10/18/2012  Standard Class   \n",
      "5       6  CA-2011-115812  2011    6/9/2011   6/14/2011  Standard Class   \n",
      "6       7  CA-2011-115812  2011    6/9/2011   6/14/2011  Standard Class   \n",
      "7       8  CA-2011-115812  2011    6/9/2011   6/14/2011  Standard Class   \n",
      "8       9  CA-2011-115812  2011    6/9/2011   6/14/2011  Standard Class   \n",
      "9      10  CA-2011-115812  2011    6/9/2011   6/14/2011  Standard Class   \n",
      "\n",
      "  Customer ID    Customer Name    Segment        Country  ... Postal Code  \\\n",
      "0    CG-12520      Claire Gute   Consumer  United States  ...       42420   \n",
      "1    CG-12520      Claire Gute   Consumer  United States  ...       42420   \n",
      "2    DV-13045  Darrin Van Huff  Corporate  United States  ...       90036   \n",
      "3    SO-20335   Sean O'Donnell   Consumer  United States  ...       33311   \n",
      "4    SO-20335   Sean O'Donnell   Consumer  United States  ...       33311   \n",
      "5    BH-11710  Brosina Hoffman   Consumer  United States  ...       90032   \n",
      "6    BH-11710  Brosina Hoffman   Consumer  United States  ...       90032   \n",
      "7    BH-11710  Brosina Hoffman   Consumer  United States  ...       90032   \n",
      "8    BH-11710  Brosina Hoffman   Consumer  United States  ...       90032   \n",
      "9    BH-11710  Brosina Hoffman   Consumer  United States  ...       90032   \n",
      "\n",
      "  Region       Product ID         Category Sub-Category  \\\n",
      "0  South  FUR-BO-10001798        Furniture    Bookcases   \n",
      "1  South  FUR-CH-10000454        Furniture       Chairs   \n",
      "2   West  OFF-LA-10000240  Office Supplies       Labels   \n",
      "3  South  FUR-TA-10000577        Furniture       Tables   \n",
      "4  South  OFF-ST-10000760  Office Supplies      Storage   \n",
      "5   West  FUR-FU-10001487        Furniture  Furnishings   \n",
      "6   West  OFF-AR-10002833  Office Supplies          Art   \n",
      "7   West  TEC-PH-10002275       Technology       Phones   \n",
      "8   West  OFF-BI-10003910  Office Supplies      Binders   \n",
      "9   West  OFF-AP-10002892  Office Supplies   Appliances   \n",
      "\n",
      "                                        Product Name     Sales Quantity  \\\n",
      "0                  Bush Somerset Collection Bookcase  261.9600        2   \n",
      "1  Hon Deluxe Fabric Upholstered Stacking Chairs,...  731.9400        3   \n",
      "2  Self-Adhesive Address Labels for Typewriters b...   14.6200        2   \n",
      "3      Bretford CR4500 Series Slim Rectangular Table  957.5775        5   \n",
      "4                     Eldon Fold 'N Roll Cart System   22.3680        2   \n",
      "5  Eldon Expressions Wood and Plastic Desk Access...   48.8600        7   \n",
      "6                                         Newell 322    7.2800        4   \n",
      "7                     Mitel 5320 IP Phone VoIP phone  907.1520        6   \n",
      "8  DXL Angle-View Binders with Locking Rings by S...   18.5040        3   \n",
      "9                   Belkin F5C206VTEL 6 Outlet Surge  114.9000        5   \n",
      "\n",
      "   Discount    Profit  \n",
      "0      0.00   41.9136  \n",
      "1      0.00  219.5820  \n",
      "2      0.00    6.8714  \n",
      "3      0.45 -383.0310  \n",
      "4      0.20    2.5164  \n",
      "5      0.00   14.1694  \n",
      "6      0.00    1.9656  \n",
      "7      0.20   90.7152  \n",
      "8      0.20    5.7825  \n",
      "9      0.00   34.4700  \n",
      "\n",
      "[10 rows x 22 columns]\n"
     ]
    },
    {
     "name": "stderr",
     "output_type": "stream",
     "text": [
      "C:\\Users\\kisha\\AppData\\Local\\Temp\\ipykernel_18896\\1311576060.py:12: UserWarning: pandas only supports SQLAlchemy connectable (engine/connection) or database string URI or sqlite3 DBAPI2 connection. Other DBAPI2 objects are not tested. Please consider using SQLAlchemy.\n",
      "  df = pd.read_sql(sql_data, conn)\n"
     ]
    }
   ],
   "source": [
    "conn = psycopg2.connect(\n",
    "    dbname=database,\n",
    "    user=username,\n",
    "    password=password,\n",
    "    host=host,\n",
    "    port=port\n",
    ")\n",
    "\n",
    "cur = conn.cursor()\n",
    "\n",
    "sql_data='''SELECT * FROM public.\"Ecommerce_Sales_Analysis\" LIMIT 10;'''\n",
    "df = pd.read_sql(sql_data, conn)  \n",
    "print(df)\n"
   ]
  },
  {
   "cell_type": "code",
   "execution_count": 37,
   "metadata": {},
   "outputs": [],
   "source": [
    "# Commit and close the connection\n",
    "conn.commit()\n",
    "cur.close()\n",
    "conn.close()"
   ]
  },
  {
   "cell_type": "code",
   "execution_count": null,
   "metadata": {},
   "outputs": [],
   "source": []
  }
 ],
 "metadata": {
  "kernelspec": {
   "display_name": "base",
   "language": "python",
   "name": "python3"
  },
  "language_info": {
   "codemirror_mode": {
    "name": "ipython",
    "version": 3
   },
   "file_extension": ".py",
   "mimetype": "text/x-python",
   "name": "python",
   "nbconvert_exporter": "python",
   "pygments_lexer": "ipython3",
   "version": "3.11.3"
  }
 },
 "nbformat": 4,
 "nbformat_minor": 2
}
